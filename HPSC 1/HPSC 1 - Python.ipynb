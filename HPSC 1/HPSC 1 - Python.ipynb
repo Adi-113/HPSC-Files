{
 "cells": [
  {
   "cell_type": "code",
   "execution_count": 37,
   "id": "eea103d3-0dd9-45c8-96ff-91f157ed5792",
   "metadata": {},
   "outputs": [
    {
     "name": "stderr",
     "output_type": "stream",
     "text": [
      "C:\\Users\\adith\\AppData\\Local\\Temp\\ipykernel_33824\\3770071656.py:15: RuntimeWarning: overflow encountered in scalar add\n",
      "  c+=v1[i]*v2[i]\n"
     ]
    },
    {
     "name": "stdout",
     "output_type": "stream",
     "text": [
      "Loop time 3.794973850250244\n",
      "Function time 0.0\n"
     ]
    }
   ],
   "source": [
    "#vector dot product\n",
    "import numpy as np\n",
    "import random\n",
    "import time\n",
    "a=[]\n",
    "b = []\n",
    "for i in range(0,5000000):\n",
    "    a.append(random.randint(0,100))\n",
    "    b.append(random.randint(0,100))\n",
    "v1 = np.array(a)\n",
    "v2 = np.array(b)\n",
    "c=0\n",
    "tic=time.time()\n",
    "for i in range(len(v1)):\n",
    "    c+=v1[i]*v2[i]\n",
    "toc=time.time()\n",
    "c1= toc-tic\n",
    "tic1=time.time()\n",
    "dot_product = np.dot(v1, v2)\n",
    "toc1= time.time()\n",
    "c2=toc1-tic1\n",
    "print(\"Loop time\",c1)\n",
    "print(\"Function time\",c2)"
   ]
  },
  {
   "cell_type": "code",
   "execution_count": 34,
   "id": "85a4ca7b-0779-476a-8218-72d4c683b6ac",
   "metadata": {},
   "outputs": [
    {
     "name": "stdout",
     "output_type": "stream",
     "text": [
      "Loop time 0.014644861221313477\n",
      "Function time 0.0010170936584472656\n",
      "speedup 14.39873417721519\n"
     ]
    }
   ],
   "source": [
    "#matrix multiplication\n",
    "import numpy as np\n",
    "import random\n",
    "import time\n",
    "\n",
    "m1 = np.random.rand (15, 30)\n",
    "m2 = np.random.rand (30, 20)\n",
    "c = [[0 for _ in range(m2.shape[1])] for _ in range(m1.shape[0])]\n",
    "s1=time.time()\n",
    "for i in range(m1.shape[0]):\n",
    "    for j in range(m2.shape[1]):\n",
    "        for k in range(m1.shape[1]):\n",
    "            c[i][j] += m1[i][k] * m2[k][j]\n",
    "e1=time.time()\n",
    "c1= e1-s1\n",
    "s2=time.time()\n",
    "product = np.matmul(m1,m2)\n",
    "e2 = time.time()\n",
    "c2= e2-s2\n",
    "print(\"Loop time\",c1)\n",
    "print(\"Function time\",c2)\n",
    "print(\"speedup\", c1/c2)"
   ]
  },
  {
   "cell_type": "code",
   "execution_count": 36,
   "id": "2664111e-9380-4659-b5ea-fbe46ad987a1",
   "metadata": {},
   "outputs": [
    {
     "name": "stdout",
     "output_type": "stream",
     "text": [
      "Loop time 0.8699629306793213\n",
      "Function time 0.011281490325927734\n",
      "Speedup 77.11418487679107\n"
     ]
    }
   ],
   "source": [
    "#Vector Matrix Multiplication\n",
    "import numpy as np\n",
    "import random\n",
    "import time\n",
    "m1 = np.random.rand (1, 3000)\n",
    "m2 = np.random.rand (3000, 200)\n",
    "c = [[0 for _ in range(m2.shape[1])] for _ in range(m1.shape[0])]\n",
    "s1=time.time()\n",
    "for i in range(m1.shape[0]):\n",
    "    for j in range(m2.shape[1]):\n",
    "        for k in range(m1.shape[1]):\n",
    "            c[i][j] += m1[i][k] * m2[k][j]\n",
    "e1=time.time()\n",
    "c1= e1-s1\n",
    "s2=time.time()\n",
    "product = np.dot(m1,m2)\n",
    "e2 = time.time()\n",
    "c2= e2-s2\n",
    "print(\"Loop time\",c1)\n",
    "print(\"Function time\",c2)\n",
    "print(\"Speedup\",c1/c2)"
   ]
  },
  {
   "cell_type": "code",
   "execution_count": null,
   "id": "65cbbfe4-ad76-4750-a9df-57daeb975f33",
   "metadata": {},
   "outputs": [],
   "source": []
  }
 ],
 "metadata": {
  "kernelspec": {
   "display_name": "Python 3 (ipykernel)",
   "language": "python",
   "name": "python3"
  },
  "language_info": {
   "codemirror_mode": {
    "name": "ipython",
    "version": 3
   },
   "file_extension": ".py",
   "mimetype": "text/x-python",
   "name": "python",
   "nbconvert_exporter": "python",
   "pygments_lexer": "ipython3",
   "version": "3.12.4"
  }
 },
 "nbformat": 4,
 "nbformat_minor": 5
}
