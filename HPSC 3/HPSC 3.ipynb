{
 "cells": [
  {
   "cell_type": "code",
   "execution_count": 1,
   "id": "989060e2-e6ab-4190-881a-6cc4903aab50",
   "metadata": {},
   "outputs": [],
   "source": [
    "import numpy as np\n",
    "from scipy.optimize import root_scalar\n",
    "import time"
   ]
  },
  {
   "cell_type": "code",
   "execution_count": 2,
   "id": "0a12409a-2ac6-41c7-b166-e23238f559f1",
   "metadata": {},
   "outputs": [
    {
     "name": "stdout",
     "output_type": "stream",
     "text": [
      "Time taken: 17.9646 seconds\n"
     ]
    }
   ],
   "source": [
    "# Series Computing\n",
    "def f(x):\n",
    "    return np.sin(3 * np.pi *np.cos(2 * np.pi * x) * np.sin(np.pi * x))\n",
    "\n",
    "a, b = -3, 5\n",
    "n = 4**9\n",
    "x0 = np.linspace(a, b, n)  \n",
    "q = np.zeros(n) \n",
    "\n",
    "start_time = time.time()\n",
    "\n",
    "for i in range(n):\n",
    "    result = root_scalar(f, x0=x0[i], bracket=[a, b])\n",
    "    q[i] = result.root\n",
    "\n",
    "print(f\"Time taken: {time.time() - start_time:.4f} seconds\")\n"
   ]
  },
  {
   "cell_type": "code",
   "execution_count": 4,
   "id": "38540e2a-2d24-48aa-8228-8603cb1049ed",
   "metadata": {},
   "outputs": [
    {
     "name": "stdout",
     "output_type": "stream",
     "text": [
      "Time taken: 0.1107 seconds\n"
     ]
    }
   ],
   "source": [
    "# parallel Computing\n",
    "import multiprocessing\n",
    "\n",
    "def f(x):\n",
    "    return np.sin(3 * np.pi * np.cos(2 * np.pi * x) * np.sin(np.pi * x))\n",
    "\n",
    "a, b = -3, 5\n",
    "n = 4**9\n",
    "x0 = np.linspace(a, b, n) \n",
    "q = np.zeros(n) \n",
    "\n",
    "def findroot():\n",
    "    for i in range(n):\n",
    "        result = root_scalar(f, x0=x0[i], bracket=[a, b])\n",
    "        q[i] = result.root\n",
    "start_time = time.time()\n",
    "with multiprocessing.Pool(processes=6) as pool:\n",
    "    pool.map(findroot,\"\")\n",
    "    \n",
    "print(f\"Time taken: {time.time() - start_time:.4f} seconds\")"
   ]
  },
  {
   "cell_type": "code",
   "execution_count": null,
   "id": "c25fc36d-960f-4f1a-b4c5-383c1f13cef2",
   "metadata": {},
   "outputs": [],
   "source": []
  }
 ],
 "metadata": {
  "kernelspec": {
   "display_name": "Python 3 (ipykernel)",
   "language": "python",
   "name": "python3"
  },
  "language_info": {
   "codemirror_mode": {
    "name": "ipython",
    "version": 3
   },
   "file_extension": ".py",
   "mimetype": "text/x-python",
   "name": "python",
   "nbconvert_exporter": "python",
   "pygments_lexer": "ipython3",
   "version": "3.12.4"
  }
 },
 "nbformat": 4,
 "nbformat_minor": 5
}
